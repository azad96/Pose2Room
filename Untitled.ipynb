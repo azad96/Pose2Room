{
 "cells": [
  {
   "cell_type": "code",
   "execution_count": 1,
   "id": "83f9a320",
   "metadata": {},
   "outputs": [],
   "source": [
    "from net_utils.utils import load_dataloader"
   ]
  },
  {
   "cell_type": "code",
   "execution_count": null,
   "id": "c7f07a62",
   "metadata": {},
   "outputs": [],
   "source": []
  }
 ],
 "metadata": {
  "kernelspec": {
   "display_name": "Python [conda env:p2rnet]",
   "language": "python",
   "name": "conda-env-p2rnet-py"
  },
  "language_info": {
   "codemirror_mode": {
    "name": "ipython",
    "version": 3
   },
   "file_extension": ".py",
   "mimetype": "text/x-python",
   "name": "python",
   "nbconvert_exporter": "python",
   "pygments_lexer": "ipython3",
   "version": "3.6.13"
  }
 },
 "nbformat": 4,
 "nbformat_minor": 5
}
